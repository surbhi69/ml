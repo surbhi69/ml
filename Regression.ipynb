{
 "cells": [
  {
   "cell_type": "code",
   "execution_count": null,
   "id": "357a0e9f",
   "metadata": {},
   "outputs": [],
   "source": [
    "import numpy as np \n",
    "import pandas as pd \n",
    "import matplotlib.pyplot as plt\n",
    "import seaborn as sns\n",
    "\n",
    "\n",
    "df = pd.read_csv('temperatures.csv')\n",
    "\n",
    "\n",
    "x = df[['YEAR','JAN','FEB','MAR','APR','JUN','JUL','AUG','SEP','OCT','NOV','DEC']]\n",
    "y = df[['ANNUAL']]\n",
    "\n",
    "\n",
    "from sklearn.model_selection import train_test_split\n",
    "x_train , x_test , y_train , y_test = train_test_split(x,y,test_size=0.25,random_state=1)\n",
    "\n",
    "print(x_train.shape)\n",
    "print(y_train.shape)\n",
    "print(x_test.shape)\n",
    "print(y_test.shape)\n",
    "\n",
    "\n",
    "\n",
    "from sklearn.linear_model import LinearRegression\n",
    "lr = LinearRegression()\n",
    "lr.fit(x_train, y_train)\n",
    "y_train_pred = lr.predict(x_train)\n",
    "y_test_pred = lr.predict(x_test)\n",
    "\n",
    "\n",
    "from sklearn.metrics import mean_squared_error , mean_absolute_error, r2_score\n",
    "mse_test = mean_squared_error(y_test, y_test_pred)\n",
    "mae_test = mean_absolute_error(y_test, y_test_pred)\n",
    "r2_test_score = r2_score(y_test, y_test_pred)\n",
    "\n",
    "\n",
    "print(mse_test)\n",
    "print(mae_test)\n",
    "print(r2_test_score)\n",
    "\n",
    "corr = df.corr()\n",
    "plt.figure(figsize = (10,10))\n",
    "sns.heatmap(corr, annot=True)\n",
    "plt.show()\n",
    "\n",
    "\n",
    "plt.scatter(y_test , y_test , label=\"Actual\",color=\"green\" )\n",
    "plt.scatter(y_test_pred, y_test_pred, label=\"Predicted\", color='red')\n",
    "plt.legend()\n",
    "plt.show()"
   ]
  }
 ],
 "metadata": {
  "kernelspec": {
   "display_name": "Python 3 (ipykernel)",
   "language": "python",
   "name": "python3"
  },
  "language_info": {
   "codemirror_mode": {
    "name": "ipython",
    "version": 3
   },
   "file_extension": ".py",
   "mimetype": "text/x-python",
   "name": "python",
   "nbconvert_exporter": "python",
   "pygments_lexer": "ipython3",
   "version": "3.9.12"
  }
 },
 "nbformat": 4,
 "nbformat_minor": 5
}
